import tensorflow as tf
from tensorflow.keras.preprocessing import image
import numpy as np
import requests
from io import BytesIO
from PIL import Image
# Load pre-trained MobileNetV2 model
model = tf.keras.applications.MobileNetV2(weights='imagenet')
# Function to process the image
def prepare_image(img_path):
    # Load image
    img = Image.open(img_path).resize((224, 224))  # Resize to the input size of the model
    img_array = np.array(img)
    
    # Preprocess the image for MobileNetV2
    img_array = tf.keras.applications.mobilenet_v2.preprocess_input(img_array)
    
    # Add batch dimension
    img_array = np.expand_dims(img_array, axis=0)
    
    return img_array
# Function to predict the label
def predict_animal(img_path):
    img_array = prepare_image(img_path)
    
    # Predict the image class
    predictions = model.predict(img_array)
    
    # Decode predictions
    decoded_predictions = tf.keras.applications.mobilenet_v2.decode_predictions(predictions, top=1)[0][0]
    
    # Display the result
    print(f"Predicted animal: {decoded_predictions[1]} with probability: {decoded_predictions[2]*100:.2f}%")
# Exemple
img_url = "/kaggle/input/horse1/horse1.jpg"  
response = predict_animal(img_url)
